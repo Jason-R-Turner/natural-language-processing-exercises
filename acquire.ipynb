{
 "cells": [
  {
   "cell_type": "markdown",
   "id": "61420bed-b3e1-4277-9a03-967a59b80428",
   "metadata": {},
   "source": [
    "# Convert to separate .py files for news articles and codeup blog to be used in acquire.py file"
   ]
  },
  {
   "cell_type": "markdown",
   "id": "fda4f2c0-5013-4876-af9c-9738d3f87a8c",
   "metadata": {
    "tags": []
   },
   "source": [
    "## 1. Codeup Blog Articles\n",
    "\n",
    "Visit Codeup's Blog and record the urls for at least 5 distinct blog posts. For each post, you should scrape at least the post's title and content.\n",
    "\n",
    "Encapsulate your work in a function named get_blog_articles that will return a list of dictionaries, with each dictionary representing one article. The shape of each dictionary should look like this:"
   ]
  },
  {
   "cell_type": "code",
   "execution_count": 1,
   "id": "9ab9e41b-f360-4902-9e4d-9e322fbd5c8b",
   "metadata": {},
   "outputs": [
    {
     "data": {
      "text/plain": [
       "{'title': 'the title of the article',\n",
       " 'content': 'the full text content of the article'}"
      ]
     },
     "execution_count": 1,
     "metadata": {},
     "output_type": "execute_result"
    }
   ],
   "source": [
    "{\n",
    "    'title': 'the title of the article',\n",
    "    'content': 'the full text content of the article'\n",
    "}\n"
   ]
  },
  {
   "cell_type": "markdown",
   "id": "c63d3d20-fb54-421b-98b3-8c83634d74ff",
   "metadata": {},
   "source": [
    "Plus any additional properties you think might be helpful."
   ]
  },
  {
   "cell_type": "markdown",
   "id": "1c3a0e82-1219-48a4-94d8-9760982e712e",
   "metadata": {},
   "source": [
    "### Bonus: Scrape the text of all the articles linked on codeup's blog page."
   ]
  },
  {
   "cell_type": "markdown",
   "id": "78edd84d-54af-4ada-ae75-d41e3bed51f6",
   "metadata": {},
   "source": [
    "## 2. News Articles\n",
    "\n",
    "We will now be scraping text data from inshorts, a website that provides a brief overview of many different topics.\n",
    "\n",
    "Write a function that scrapes the news articles for the following topics:\n",
    "\n",
    "Business\n",
    "Sports\n",
    "Technology\n",
    "Entertainment\n",
    "The end product of this should be a function named get_news_articles that returns a list of dictionaries, where each dictionary has this shape:"
   ]
  },
  {
   "cell_type": "code",
   "execution_count": 2,
   "id": "9ef194e1-1dbe-499e-aa3c-a4c443ba89de",
   "metadata": {},
   "outputs": [
    {
     "data": {
      "text/plain": [
       "{'title': 'The article title',\n",
       " 'content': 'The article content',\n",
       " 'category': 'business'}"
      ]
     },
     "execution_count": 2,
     "metadata": {},
     "output_type": "execute_result"
    }
   ],
   "source": [
    "{\n",
    "    'title': 'The article title',\n",
    "    'content': 'The article content',\n",
    "    'category': 'business' # for example\n",
    "}\n"
   ]
  },
  {
   "cell_type": "markdown",
   "id": "82591db4-b77a-4489-8f48-bac1d3b089c9",
   "metadata": {},
   "source": [
    "Hints:\n",
    "\n",
    "a. Start by inspecting the website in your browser. Figure out which elements will be useful.  \n",
    "b. Start by creating a function that handles a single article and produces a dictionary like the one above.  \n",
    "c. Next create a function that will find all the articles on a single page and call the function you created in the last step for every article on the page.  \n",
    "d. Now create a function that will use the previous two functions to scrape the articles from all the pages that you need, and do any additional processing that needs to be done."
   ]
  },
  {
   "cell_type": "markdown",
   "id": "04b5b9ac-a305-4019-adca-5222b5d5ea09",
   "metadata": {},
   "source": [
    "## 3. Bonus: cache the data\n",
    "\n",
    "Write your code such that the acquired data is saved locally in some form or fashion. Your functions that retrieve the data should prefer to read the local data instead of having to make all the requests everytime the function is called. Include a boolean flag in the functions to allow the data to be acquired \"fresh\" from the actual sources (re-writing your local cache)."
   ]
  },
  {
   "cell_type": "code",
   "execution_count": null,
   "id": "0ced0eff-5288-437e-8eba-0f805b66d9af",
   "metadata": {},
   "outputs": [],
   "source": []
  }
 ],
 "metadata": {
  "kernelspec": {
   "display_name": "Python 3 (ipykernel)",
   "language": "python",
   "name": "python3"
  },
  "language_info": {
   "codemirror_mode": {
    "name": "ipython",
    "version": 3
   },
   "file_extension": ".py",
   "mimetype": "text/x-python",
   "name": "python",
   "nbconvert_exporter": "python",
   "pygments_lexer": "ipython3",
   "version": "3.9.7"
  }
 },
 "nbformat": 4,
 "nbformat_minor": 5
}
