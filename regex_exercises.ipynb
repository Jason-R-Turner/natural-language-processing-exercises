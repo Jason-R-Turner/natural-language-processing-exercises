{
 "cells": [
  {
   "cell_type": "markdown",
   "id": "5485629e-44b3-4561-9e8f-86640138ceb3",
   "metadata": {},
   "source": [
    "# Regular Expressions"
   ]
  },
  {
   "cell_type": "code",
   "execution_count": 1,
   "id": "3ef6aa0e-6de8-4017-b91d-ff56bba3cfb4",
   "metadata": {},
   "outputs": [],
   "source": [
    "# Imports RegEx and Pandas libraries\n",
    "import re\n",
    "import pandas as pd"
   ]
  },
  {
   "cell_type": "markdown",
   "id": "3948dc5f-76bd-4f1f-9bbe-696bd3ebfabd",
   "metadata": {},
   "source": [
    "1. Write a function named `is_vowel`. It should accept a string as input and use a regular expression to determine if the passed string is a vowel. While not explicity mentioned in the lesson, you can treat the result of re.search as a boolean value that indicates whether or not the regular expression matches the given string.\n",
    "\n"
   ]
  },
  {
   "cell_type": "code",
   "execution_count": 2,
   "id": "bfb65893-4bda-43ba-b9f7-c3f9c327e104",
   "metadata": {},
   "outputs": [
    {
     "name": "stdout",
     "output_type": "stream",
     "text": [
      "True\n",
      "False\n",
      "False\n",
      "True\n",
      "False\n"
     ]
    }
   ],
   "source": [
    "# Creates RegEx expression for anycase vowels then prints boolen result\n",
    "vowel_re = '^[aeiouAEIOU]$'\n",
    "\n",
    "print(bool(re.search(vowel_re, 'a')))\n",
    "print(bool(re.search(vowel_re, 'b')))\n",
    "print(bool(re.search(vowel_re, 'codeup')))\n",
    "print(bool(re.search(vowel_re, 'A')))\n",
    "print(bool(re.search(vowel_re, 'B')))    "
   ]
  },
  {
   "cell_type": "code",
   "execution_count": 3,
   "id": "8ff9ff13-5f53-4635-9376-32c8a4028ce3",
   "metadata": {},
   "outputs": [],
   "source": [
    "# Creates a function for evaluating vowels in strings using RegEx\n",
    "def is_vowel(string):\n",
    "    vowel_re = '^[aeiouAEIOU]$'\n",
    "    \n",
    "    return bool(re.search(vowel_re, string))"
   ]
  },
  {
   "cell_type": "code",
   "execution_count": 4,
   "id": "54e8ec14-6375-434d-8e6b-6f537ba43d07",
   "metadata": {},
   "outputs": [
    {
     "data": {
      "text/plain": [
       "True"
      ]
     },
     "execution_count": 4,
     "metadata": {},
     "output_type": "execute_result"
    }
   ],
   "source": [
    "# Tests is_vowel function\n",
    "is_vowel('A')"
   ]
  },
  {
   "cell_type": "code",
   "execution_count": 5,
   "id": "ef9e82c1-62ff-475e-86b6-dda9ed1df7d9",
   "metadata": {},
   "outputs": [
    {
     "data": {
      "text/plain": [
       "False"
      ]
     },
     "execution_count": 5,
     "metadata": {},
     "output_type": "execute_result"
    }
   ],
   "source": [
    "# Tests is_vowel function\n",
    "is_vowel('B')"
   ]
  },
  {
   "cell_type": "markdown",
   "id": "f7df9a41-8271-4f60-bb51-169e7a2822dc",
   "metadata": {},
   "source": [
    "2. Write a function named `is_valid_username` that accepts a string as input. A valid username starts with a lowercase letter, and only consists of lowercase letters, numbers, or the _ character. It should also be no longer than 32 characters. The function should return either True or False depending on whether the passed string is a valid username.\n",
    "\n",
    ">>> is_valid_username('aaaaaaaaaaaaaaaaaaaaaaaaaaaaaaaaa')\n",
    "False\n",
    ">>> is_valid_username('codeup')\n",
    "True\n",
    ">>> is_valid_username('Codeup')\n",
    "False\n",
    ">>> is_valid_username('codeup123')\n",
    "True\n",
    ">>> is_valid_username('1codeup')\n",
    "False\n"
   ]
  },
  {
   "cell_type": "code",
   "execution_count": 6,
   "id": "19faaf3a-0aaf-48c5-ab72-96a523d798fd",
   "metadata": {},
   "outputs": [],
   "source": [
    "# Creates a function for evaluating username strings using RegEx then asserts it\n",
    "def is_valid_username(string):\n",
    "    username_re = r'^[a-z][a-z0-9_]{,31}$'\n",
    "\n",
    "    return bool(re.search(username_re, string))\n",
    "                \n",
    "assert is_valid_username('aaaaaaaaaaaaaaaaaaaaaaaaaaaaaaaaa') == False\n",
    "assert is_valid_username('codeup') == True\n",
    "assert is_valid_username('Codeup') == False\n",
    "assert is_valid_username('codeup123') == True\n",
    "assert is_valid_username('1codeup') == False\n",
    "assert is_valid_username('code_up') == True"
   ]
  },
  {
   "cell_type": "markdown",
   "id": "4c481297-0071-4f86-aeca-bb1868e60c36",
   "metadata": {},
   "source": [
    "3. Write a regular expression to capture phone numbers. It should match all of the following:\n",
    "\n",
    "(210) 867 5309\n",
    "+1 210.867.5309\n",
    "867-5309\n",
    "210-867-5309"
   ]
  },
  {
   "cell_type": "code",
   "execution_count": 9,
   "id": "13ecc20b-dea7-4e2b-83eb-5e62c33a83f8",
   "metadata": {},
   "outputs": [],
   "source": [
    "# Creates a function for evaluating phone number strings using RegEx then asserts it\n",
    "def is_phone_number(string):\n",
    "    phone_number_re = r'(\\+?\\d+)?.?(\\(?\\d{3}\\)?)?.?\\d{3}.?\\d{4}'\n",
    "    \n",
    "    return bool(re.search(phone_number_re, string))\n",
    "                \n",
    "assert is_phone_number('(210) 867 5309') == True\n",
    "assert is_phone_number('+1 210.867.5309') == True\n",
    "assert is_phone_number('867-5309') == True\n",
    "assert is_phone_number('210-867-5309') == True"
   ]
  },
  {
   "cell_type": "markdown",
   "id": "6a1bfeaa-73d1-4f14-aec4-55a678e11075",
   "metadata": {},
   "source": [
    "4. Use regular expressions to convert the dates below to the standardized year-month-day format.\n",
    "\n",
    "02/04/19\n",
    "02/05/19\n",
    "02/06/19\n",
    "02/07/19\n",
    "02/08/19\n",
    "02/09/19\n",
    "02/10/19"
   ]
  },
  {
   "cell_type": "code",
   "execution_count": 10,
   "id": "664231dd-88d0-4be6-87e6-8e782b316edd",
   "metadata": {},
   "outputs": [
    {
     "data": {
      "text/plain": [
       "['02/04/19',\n",
       " '02/05/19',\n",
       " '02/06/19',\n",
       " '02/07/19',\n",
       " '02/08/19',\n",
       " '02/09/19',\n",
       " '02/10/19']"
      ]
     },
     "execution_count": 10,
     "metadata": {},
     "output_type": "execute_result"
    }
   ],
   "source": [
    "# Assigns a list of dates to a variable\n",
    "date_list = ['02/04/19', \n",
    "    '02/05/19',\n",
    "    '02/06/19',\n",
    "    '02/07/19',\n",
    "    '02/08/19',\n",
    "    '02/09/19',\n",
    "    '02/10/19']\n",
    "\n",
    "date_list"
   ]
  },
  {
   "cell_type": "code",
   "execution_count": 11,
   "id": "02d0d82c-b80e-4db9-8931-7df452693c50",
   "metadata": {},
   "outputs": [],
   "source": [
    "# Assigns date_list series to dates variable\n",
    "dates = pd.Series(date_list)"
   ]
  },
  {
   "cell_type": "code",
   "execution_count": 12,
   "id": "51511350-810c-4060-bf78-c45c2656287a",
   "metadata": {},
   "outputs": [
    {
     "data": {
      "text/plain": [
       "0    2019-02-04\n",
       "1    2019-02-05\n",
       "2    2019-02-06\n",
       "3    2019-02-07\n",
       "4    2019-02-08\n",
       "5    2019-02-09\n",
       "6    2019-02-10\n",
       "dtype: object"
      ]
     },
     "execution_count": 12,
     "metadata": {},
     "output_type": "execute_result"
    }
   ],
   "source": [
    "# Rearranges the format for dates using replacement function\n",
    "dates.str.replace(r'(\\d{2})/(\\d{2})/(\\d{2})', r'20\\3-\\1-\\2', regex=True)"
   ]
  },
  {
   "cell_type": "markdown",
   "id": "87a22fd9-5dfd-4180-a083-1a295659244c",
   "metadata": {},
   "source": [
    "5. Write a regex to extract the various parts of these logfile lines:\n",
    "\n",
    "GET /api/v1/sales?page=86 [16/Apr/2019:193452+0000] HTTP/1.1 {200} 510348 \"python-requests/2.21.0\" 97.105.19.58\n",
    "POST /users_accounts/file-upload [16/Apr/2019:193452+0000] HTTP/1.1 {201} 42 \"User-Agent: Mozilla/5.0 (X11; Fedora; Fedora; Linux x86_64) AppleWebKit/537.36 (KHTML, like Gecko) Chrome/73.0.3683.86 Safari/537.36\" 97.105.19.58\n",
    "GET /api/v1/items?page=3 [16/Apr/2019:193453+0000] HTTP/1.1 {429} 3561 \"python-requests/2.21.0\" 97.105.19.58"
   ]
  },
  {
   "cell_type": "code",
   "execution_count": 13,
   "id": "a600b90a-7454-4943-a8a7-b54a961b325b",
   "metadata": {},
   "outputs": [],
   "source": [
    "# Assigns the logfile lines to a variable\n",
    "lines = pd.Series([\n",
    "    'GET /api/v1/sales?page=86 [16/Apr/2019:193452+0000] HTTP/1.1 {200} 510348 \"python-requests/2.21.0\" 97.105.19.58',\n",
    "    'POST /users_accounts/file-upload [16/Apr/2019:193452+0000] HTTP/1.1 {201} 42 \"User-Agent: Mozilla/5.0 (X11; Fedora; Fedora; Linux x86_64) AppleWebKit/537.36 (KHTML, like Gecko) Chrome/73.0.3683.86 Safari/537.36\" 97.105.19.58', \n",
    "    'GET /api/v1/items?page=3 [16/Apr/2019:193453+0000] HTTP/1.1 {429} 3561 \"python-requests/2.21.0\" 97.105.19.58'\n",
    "])"
   ]
  },
  {
   "cell_type": "code",
   "execution_count": 14,
   "id": "ea1acc91-1666-454b-ba88-5661d6bd823b",
   "metadata": {},
   "outputs": [
    {
     "data": {
      "text/plain": [
       "0    GET /api/v1/sales?page=86 [16/Apr/2019:193452+...\n",
       "1    POST /users_accounts/file-upload [16/Apr/2019:...\n",
       "2    GET /api/v1/items?page=3 [16/Apr/2019:193453+0...\n",
       "dtype: object"
      ]
     },
     "execution_count": 14,
     "metadata": {},
     "output_type": "execute_result"
    }
   ],
   "source": [
    "lines"
   ]
  },
  {
   "cell_type": "code",
   "execution_count": 15,
   "id": "265cf847-b3b4-46ec-8f87-78c8df2d3494",
   "metadata": {},
   "outputs": [],
   "source": [
    "# Assigns a variable for the RegEx code\n",
    "logfile_re = r'(GET|POST)\\s+(.*?)\\s+\\[.*?\\]\\s+(.*?)\\s+\\{(\\d+)\\}\\s+(\\d+)\\s+\\\"(.*)\\\"\\s+(.*)'"
   ]
  },
  {
   "cell_type": "code",
   "execution_count": 17,
   "id": "022c50a3-1197-4eca-a2be-1a6c9242959d",
   "metadata": {},
   "outputs": [],
   "source": [
    "# Assigns a variable to a RegEx that creates capture groups for a string \n",
    "logfile_re_cap_gps = r'''\n",
    "^(?P<method>GET|POST)\n",
    "\\s+\n",
    "(?P<path>.*?)\n",
    "\\s+\n",
    "\\[(?P<timestamp>.*?)\\]\n",
    "\\s+\n",
    "(?P<http_version>.*?)\n",
    "\\s+\n",
    "\\{(?P<status>\\d+)\\}\n",
    "\\s+\n",
    "(?P<bytes>\\d+)\n",
    "\\s+\n",
    "\"(?P<user_agent>.*)\"\n",
    "\\s+\n",
    "(?P<ip>.*)$\n",
    "'''"
   ]
  },
  {
   "cell_type": "code",
   "execution_count": 18,
   "id": "fac40803-54b3-4ed8-9d81-b355c9409040",
   "metadata": {},
   "outputs": [
    {
     "data": {
      "text/html": [
       "<div>\n",
       "<style scoped>\n",
       "    .dataframe tbody tr th:only-of-type {\n",
       "        vertical-align: middle;\n",
       "    }\n",
       "\n",
       "    .dataframe tbody tr th {\n",
       "        vertical-align: top;\n",
       "    }\n",
       "\n",
       "    .dataframe thead th {\n",
       "        text-align: right;\n",
       "    }\n",
       "</style>\n",
       "<table border=\"1\" class=\"dataframe\">\n",
       "  <thead>\n",
       "    <tr style=\"text-align: right;\">\n",
       "      <th></th>\n",
       "      <th>0</th>\n",
       "      <th>1</th>\n",
       "      <th>2</th>\n",
       "      <th>3</th>\n",
       "      <th>4</th>\n",
       "      <th>5</th>\n",
       "      <th>6</th>\n",
       "    </tr>\n",
       "  </thead>\n",
       "  <tbody>\n",
       "    <tr>\n",
       "      <th>0</th>\n",
       "      <td>GET</td>\n",
       "      <td>/api/v1/sales?page=86</td>\n",
       "      <td>HTTP/1.1</td>\n",
       "      <td>200</td>\n",
       "      <td>510348</td>\n",
       "      <td>python-requests/2.21.0</td>\n",
       "      <td>97.105.19.58</td>\n",
       "    </tr>\n",
       "    <tr>\n",
       "      <th>1</th>\n",
       "      <td>POST</td>\n",
       "      <td>/users_accounts/file-upload</td>\n",
       "      <td>HTTP/1.1</td>\n",
       "      <td>201</td>\n",
       "      <td>42</td>\n",
       "      <td>User-Agent: Mozilla/5.0 (X11; Fedora; Fedora; ...</td>\n",
       "      <td>97.105.19.58</td>\n",
       "    </tr>\n",
       "    <tr>\n",
       "      <th>2</th>\n",
       "      <td>GET</td>\n",
       "      <td>/api/v1/items?page=3</td>\n",
       "      <td>HTTP/1.1</td>\n",
       "      <td>429</td>\n",
       "      <td>3561</td>\n",
       "      <td>python-requests/2.21.0</td>\n",
       "      <td>97.105.19.58</td>\n",
       "    </tr>\n",
       "  </tbody>\n",
       "</table>\n",
       "</div>"
      ],
      "text/plain": [
       "      0                            1         2    3       4  \\\n",
       "0   GET        /api/v1/sales?page=86  HTTP/1.1  200  510348   \n",
       "1  POST  /users_accounts/file-upload  HTTP/1.1  201      42   \n",
       "2   GET         /api/v1/items?page=3  HTTP/1.1  429    3561   \n",
       "\n",
       "                                                   5             6  \n",
       "0                             python-requests/2.21.0  97.105.19.58  \n",
       "1  User-Agent: Mozilla/5.0 (X11; Fedora; Fedora; ...  97.105.19.58  \n",
       "2                             python-requests/2.21.0  97.105.19.58  "
      ]
     },
     "execution_count": 18,
     "metadata": {},
     "output_type": "execute_result"
    }
   ],
   "source": [
    "# Returns a dataframe with rows as the 3 lines and columns as the capture groups using logfile_re RegEx and Verbose functions\n",
    "lines.str.extract(logfile_re, re.VERBOSE)"
   ]
  },
  {
   "cell_type": "markdown",
   "id": "b33c0365-0e6f-42b1-a41b-3664a4311756",
   "metadata": {},
   "source": [
    "Bonus Exercise\n",
    "You can find a list of words on your mac at /usr/share/dict/words. Use this file to answer the following questions:\n",
    "- How many words have at least 3 vowels?\n",
    "- How many words have at least 3 vowels in a row?\n",
    "- How many words have at least 4 consonants in a row?\n",
    "- How many words start and end with the same letter?\n",
    "- How many words start and end with a vowel?\n",
    "- How many words contain the same letter 3 times in a row?\n",
    "- What other interesting patterns in words can you find?"
   ]
  }
 ],
 "metadata": {
  "kernelspec": {
   "display_name": "Python 3 (ipykernel)",
   "language": "python",
   "name": "python3"
  },
  "language_info": {
   "codemirror_mode": {
    "name": "ipython",
    "version": 3
   },
   "file_extension": ".py",
   "mimetype": "text/x-python",
   "name": "python",
   "nbconvert_exporter": "python",
   "pygments_lexer": "ipython3",
   "version": "3.9.7"
  }
 },
 "nbformat": 4,
 "nbformat_minor": 5
}
